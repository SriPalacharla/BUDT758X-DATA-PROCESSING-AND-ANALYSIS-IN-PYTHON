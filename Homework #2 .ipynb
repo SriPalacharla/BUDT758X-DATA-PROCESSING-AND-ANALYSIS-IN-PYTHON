{
 "cells": [
  {
   "cell_type": "markdown",
   "metadata": {},
   "source": [
    "## Exercise #1\n",
    "\n",
    "In the classic card game War, a standard deck of (52) playing cards is shuffled and distributed evenly among two players (26 cards each). For each round of gameplay, the players lay out one card at a time (for our purposes, in order of how they have been dealt) and the player with the higher card wins the round (where Ace = 1, 2-10 equal their face value, and Jack, Queen, and King = 11, 12, 13, respectively, across each of the four suits: diamonds, hearts, clubs, spades). Ties are broken with additional plays until one player wins the full round (i.e., all of the cards played during the round, including those that were tied). Although variations of the game can continue until one player wins all of the cards, let's consider the simple case in which cards won during a previous round cannot be replayed.\n",
    "\n",
    "A variant of War, called Addition War, consists of two cards being played by each player at a time, where the player with the higher sum of two card values wins the round. Similar to the original game, ties are broken with additional plays of two cards each until one player wins all of the cards in the round. Once all cards have been played (once), the player with the higher score (sum of collected card values) wins the game. If the players run out of cards in the middle of a tiebreaker, assume that each player's respective cards (for that round) are returned to them for the final score."
   ]
  },
  {
   "cell_type": "markdown",
   "metadata": {},
   "source": [
    "### Exercise #1a\n",
    "Write (and execute) a statement that will generate a list of values associated with a standard deck of playing cards. You do not need to differentiate between suits (i.e., diamonds, hearts, clubs, spades), as they have no relevance for this particular game. "
   ]
  },
  {
   "cell_type": "code",
   "execution_count": 1,
   "metadata": {},
   "outputs": [],
   "source": [
    "import numpy as np"
   ]
  },
  {
   "cell_type": "code",
   "execution_count": 2,
   "metadata": {},
   "outputs": [
    {
     "data": {
      "text/plain": [
       "[1,\n",
       " 2,\n",
       " 3,\n",
       " 4,\n",
       " 5,\n",
       " 6,\n",
       " 7,\n",
       " 8,\n",
       " 9,\n",
       " 10,\n",
       " 11,\n",
       " 12,\n",
       " 13,\n",
       " 1,\n",
       " 2,\n",
       " 3,\n",
       " 4,\n",
       " 5,\n",
       " 6,\n",
       " 7,\n",
       " 8,\n",
       " 9,\n",
       " 10,\n",
       " 11,\n",
       " 12,\n",
       " 13,\n",
       " 1,\n",
       " 2,\n",
       " 3,\n",
       " 4,\n",
       " 5,\n",
       " 6,\n",
       " 7,\n",
       " 8,\n",
       " 9,\n",
       " 10,\n",
       " 11,\n",
       " 12,\n",
       " 13,\n",
       " 1,\n",
       " 2,\n",
       " 3,\n",
       " 4,\n",
       " 5,\n",
       " 6,\n",
       " 7,\n",
       " 8,\n",
       " 9,\n",
       " 10,\n",
       " 11,\n",
       " 12,\n",
       " 13]"
      ]
     },
     "execution_count": 2,
     "metadata": {},
     "output_type": "execute_result"
    }
   ],
   "source": [
    "L = list(range(1,14)) * 4\n",
    "L"
   ]
  },
  {
   "cell_type": "markdown",
   "metadata": {},
   "source": [
    "####  #Also report the total value associated with a full deck of cards, which represents the maximum total for a game."
   ]
  },
  {
   "cell_type": "code",
   "execution_count": 3,
   "metadata": {},
   "outputs": [
    {
     "name": "stdout",
     "output_type": "stream",
     "text": [
      "The maximum total for a game is 364\n"
     ]
    }
   ],
   "source": [
    "max_total = sum(L)\n",
    "print('The maximum total for a game is', max_total)"
   ]
  },
  {
   "cell_type": "markdown",
   "metadata": {},
   "source": [
    "### Exercise #1b\n",
    "Define a function deal that will shuffle and distribute the 52 playing cards evenly to two players (26 each) and return a tuple of each player's hand (as a list of values). The function does not need to take in any arguments, and should create the deck of values internally (i.e., you should not need to input the deck of values into the function; you may reuse the statement you developed for part a). You may assume that you are always playing with a standard deck (52 cards). You may make use of any NumPy functionality to perform the shuffle operation. "
   ]
  },
  {
   "cell_type": "code",
   "execution_count": 4,
   "metadata": {},
   "outputs": [],
   "source": [
    "def deal() :\n",
    "    arr = np.array(list(range(1,14)) * 4)\n",
    "    np.random.shuffle(arr)\n",
    "    return (list(arr[::2]), list(arr[1::2]))"
   ]
  },
  {
   "cell_type": "markdown",
   "metadata": {},
   "source": [
    "#### #Validate the operation of your function by dealing a hand to two players and displaying each player's hand along with their number of cards and the associated total value."
   ]
  },
  {
   "cell_type": "code",
   "execution_count": 5,
   "metadata": {},
   "outputs": [
    {
     "name": "stdout",
     "output_type": "stream",
     "text": [
      "Player 1 Hand is [6, 4, 5, 5, 12, 4, 2, 12, 2, 13, 1, 1, 3, 7, 6, 2, 10, 8, 8, 6, 7, 7, 1, 9, 7, 6] \n",
      "Number of cards is 26 \n",
      "Total value is 154\n",
      "===================\n",
      "Player 2 Hand is [4, 10, 10, 10, 3, 3, 11, 11, 9, 13, 4, 5, 8, 9, 1, 13, 13, 2, 12, 9, 3, 5, 12, 8, 11, 11] \n",
      "Number of cards is 26 \n",
      "Total value is 210\n",
      "===================\n"
     ]
    }
   ],
   "source": [
    "V = deal()\n",
    "for i in range(len(V)) :\n",
    " print('Player %d Hand is' % (i+1), V[i], '\\nNumber of cards is %d' % len(V[i]), '\\nTotal value is %d' % sum(V[i]))\n",
    " print('===================')"
   ]
  },
  {
   "cell_type": "markdown",
   "metadata": {},
   "source": [
    "### Exercise #1c\n",
    "Define a function play that will simulate a single game of Addition War between two players. Note that you will need to account for rounds in which a given player wins outright (i.e., after the initial play of two cards) and for rounds in which one or more ties occur. You will also need to terminate the game appropriately (i.e., after each player has played all of their cards once).\n",
    "\n",
    "Similar to the deal function, this function does not take in any arguments. The function should print information about each round of play, which will assist in validating the operation of the function. Finally, the function should store and output the initial value totals for each player's hand (i.e., after dealing), the final value totals for each player (i.e., after playing the full game), and the winner (i.e., the player with the higher total). You may choose the details of how all of this information is reported and stored, but the output should be clear and well organized."
   ]
  },
  {
   "cell_type": "code",
   "execution_count": 8,
   "metadata": {},
   "outputs": [],
   "source": [
    "def play() :\n",
    "    \n",
    "    k = deal()\n",
    "    P1 = k[0]\n",
    "    P2 = k[1]\n",
    "    \n",
    "    init_total_P1 = sum(P1)\n",
    "    init_total_P2 = sum(P2)\n",
    "    \n",
    "    X1= list(zip(P1[::2], P1[1::2]))\n",
    "    X2= list(zip(P2[::2], P2[1::2]))\n",
    "    P1_new = []\n",
    "    P2_new = []\n",
    "    tie = []\n",
    "\n",
    "    for i in range(len(X1)):\n",
    "        h1 = X1[i]\n",
    "        h2 = X2[i]\n",
    "        s1 = sum(h1)\n",
    "        s2 = sum(h2)\n",
    "        a1, a2 = h1\n",
    "        b1, b2 = h2\n",
    "        if s1 > s2 :\n",
    "            P1_new.extend([a1,a2,b1,b2])\n",
    "            print('Round', str(i+1), 'won by Player 1')\n",
    "            if len(tie) > 0 :\n",
    "                P1_new.extend(tie)\n",
    "                tie = []\n",
    "        elif s2 > s1 :\n",
    "            P2_new.extend([a1,a2,b1,b2])\n",
    "            print('Round', str(i+1), 'won by Player 2')\n",
    "            if len(tie) > 0 :\n",
    "                P2_new.extend(tie)\n",
    "                tie = []\n",
    "        elif s1 == s2 :\n",
    "            tie.extend([a1,b1,a2,b2])\n",
    "            print('Round', str(i+1), 'is a tie')\n",
    "            if i == len(X1)-1 :\n",
    "                P1_new.extend(tie[::2])\n",
    "                P2_new.extend(tie[1::2])  \n",
    "                \n",
    "    final_total_P1 = sum(P1_new)\n",
    "    final_total_P2 = sum(P2_new)\n",
    "    \n",
    "    print('\\nPlayer 1 Initial Count : %d' %init_total_P1, '\\nPlayer 2 Initial Count : %d' %init_total_P2)\n",
    "    print('\\nPlayer 1 Final Count : %d' %final_total_P1, '\\nPlayer 2 Final Count : %d' %final_total_P2)\n",
    "    \n",
    "    \n",
    "    if final_total_P1 > final_total_P2 :\n",
    "        winner = 'Player 1'\n",
    "    elif final_total_P2 > final_total_P1 :\n",
    "        winner = 'Player 2'\n",
    "    else :\n",
    "        winner = 'Tie game'\n",
    "    \n",
    "    print('\\nThe winner of the game :', winner)\n",
    "    \n",
    "        \n",
    "    return {'Player 1 Initial' : init_total_P1, 'Player 2 Initial' : init_total_P2, 'Player 1 Final' : final_total_P1, 'Player 2 Final' : final_total_P2, 'Winner' : winner}"
   ]
  },
  {
   "cell_type": "markdown",
   "metadata": {},
   "source": [
    "#### #Validate the operation of your function by simulating one game without ties and one game with ties. You may need to simulate several games to generate both outcomes."
   ]
  },
  {
   "cell_type": "markdown",
   "metadata": {},
   "source": [
    "### #Game with ties"
   ]
  },
  {
   "cell_type": "code",
   "execution_count": 27,
   "metadata": {},
   "outputs": [
    {
     "name": "stdout",
     "output_type": "stream",
     "text": [
      "Round 1 won by Player 2\n",
      "Round 2 won by Player 1\n",
      "Round 3 won by Player 1\n",
      "Round 4 won by Player 2\n",
      "Round 5 won by Player 2\n",
      "Round 6 won by Player 1\n",
      "Round 7 is a tie\n",
      "Round 8 won by Player 1\n",
      "Round 9 won by Player 1\n",
      "Round 10 is a tie\n",
      "Round 11 won by Player 2\n",
      "Round 12 won by Player 2\n",
      "Round 13 won by Player 1\n",
      "\n",
      "Player 1 Initial Count : 194 \n",
      "Player 2 Initial Count : 170\n",
      "\n",
      "Player 1 Final Count : 178 \n",
      "Player 2 Final Count : 186\n",
      "\n",
      "The winner of the game : Player 2\n"
     ]
    },
    {
     "data": {
      "text/plain": [
       "{'Player 1 Initial': 194,\n",
       " 'Player 2 Initial': 170,\n",
       " 'Player 1 Final': 178,\n",
       " 'Player 2 Final': 186,\n",
       " 'Winner': 'Player 2'}"
      ]
     },
     "execution_count": 27,
     "metadata": {},
     "output_type": "execute_result"
    }
   ],
   "source": [
    "play()"
   ]
  },
  {
   "cell_type": "markdown",
   "metadata": {},
   "source": [
    "### #Game without ties"
   ]
  },
  {
   "cell_type": "code",
   "execution_count": 32,
   "metadata": {},
   "outputs": [
    {
     "name": "stdout",
     "output_type": "stream",
     "text": [
      "Round 1 won by Player 2\n",
      "Round 2 won by Player 2\n",
      "Round 3 won by Player 1\n",
      "Round 4 won by Player 1\n",
      "Round 5 won by Player 2\n",
      "Round 6 won by Player 2\n",
      "Round 7 won by Player 1\n",
      "Round 8 won by Player 1\n",
      "Round 9 won by Player 1\n",
      "Round 10 won by Player 2\n",
      "Round 11 won by Player 2\n",
      "Round 12 won by Player 2\n",
      "Round 13 won by Player 1\n",
      "\n",
      "Player 1 Initial Count : 188 \n",
      "Player 2 Initial Count : 176\n",
      "\n",
      "Player 1 Final Count : 171 \n",
      "Player 2 Final Count : 193\n",
      "\n",
      "The winner of the game : Player 2\n"
     ]
    },
    {
     "data": {
      "text/plain": [
       "{'Player 1 Initial': 188,\n",
       " 'Player 2 Initial': 176,\n",
       " 'Player 1 Final': 171,\n",
       " 'Player 2 Final': 193,\n",
       " 'Winner': 'Player 2'}"
      ]
     },
     "execution_count": 32,
     "metadata": {},
     "output_type": "execute_result"
    }
   ],
   "source": [
    "play()"
   ]
  },
  {
   "cell_type": "markdown",
   "metadata": {},
   "source": [
    "### Exercise #1d\n",
    "Given your implemented game, let's perform some analysis of the gameplay. For brevity in your notebook, you may want to create a copy of your play function that does not include any (active) print statements to use for this part of the assignment. Simulate n = 20 games of Addition War, and provide the following results and analysis:"
   ]
  },
  {
   "cell_type": "code",
   "execution_count": 33,
   "metadata": {},
   "outputs": [],
   "source": [
    "winning_final = []\n",
    "loosing_final = []\n",
    "winning_init = []\n",
    "loosing_init = []\n",
    "low_win = []\n",
    "\n",
    "for i in range(20) :\n",
    "    k = deal()\n",
    "    P1 = k[0]\n",
    "    P2 = k[1]\n",
    "    \n",
    "    init_total_P1 = sum(P1)\n",
    "    init_total_P2 = sum(P2)\n",
    "    \n",
    "    X1= list(zip(P1[::2], P1[1::2]))\n",
    "    X2= list(zip(P2[::2], P2[1::2]))\n",
    "    P1_new = []\n",
    "    P2_new = []\n",
    "    tie = []\n",
    "\n",
    "    for i in range(len(X1)):\n",
    "        h1 = X1[i]\n",
    "        h2 = X2[i]\n",
    "        s1 = sum(h1)\n",
    "        s2 = sum(h2)\n",
    "        a1, a2 = h1\n",
    "        b1, b2 = h2\n",
    "        if s1 > s2 :\n",
    "            P1_new.extend([a1,a2,b1,b2])\n",
    "            if len(tie) > 0 :\n",
    "                P1_new.extend(tie)\n",
    "                tie = []\n",
    "        elif s2 > s1 :\n",
    "            P2_new.extend([a1,a2,b1,b2])\n",
    "            if len(tie) > 0 :\n",
    "                P2_new.extend(tie)\n",
    "                tie = []\n",
    "        elif s1 == s2 :\n",
    "            tie.extend([a1,b1,a2,b2])\n",
    "            if i == len(X1)-1 :\n",
    "                P1_new.extend(tie[::2])\n",
    "                P2_new.extend(tie[1::2])  \n",
    "                \n",
    "    final_total_P1 = sum(P1_new)\n",
    "    final_total_P2 = sum(P2_new)\n",
    "    \n",
    "    if final_total_P1 > final_total_P2 :\n",
    "        winning_final.append(final_total_P1)\n",
    "        loosing_final.append(final_total_P2)\n",
    "        winning_init.append(init_total_P1)\n",
    "        loosing_init.append(init_total_P2)\n",
    "    else :\n",
    "        winning_final.append(final_total_P2)\n",
    "        loosing_final.append(final_total_P1)\n",
    "        winning_init.append(init_total_P2)\n",
    "        loosing_init.append(init_total_P1)\n",
    "    \n",
    "    if final_total_P1 > final_total_P2 & init_total_P2 > init_total_P1 :\n",
    "        low_win.append(init_total_P1)\n",
    "    elif final_total_P2 > final_total_P1 & init_total_P1 > init_total_P2 :\n",
    "        low_win.append(init_total_P2)"
   ]
  },
  {
   "cell_type": "markdown",
   "metadata": {},
   "source": [
    "#### #Extract the final scores for the winning and losing players, and produce descriptive statistics for each scenario, specifically the minimum, mean, and maximum totals after each game. What do you observe about the winning and losing totals?"
   ]
  },
  {
   "cell_type": "code",
   "execution_count": 34,
   "metadata": {},
   "outputs": [
    {
     "name": "stdout",
     "output_type": "stream",
     "text": [
      "Final scores of winning players : [212, 197, 231, 184, 224, 240, 200, 215, 196, 222, 229, 209, 203, 249, 194, 191, 203, 235, 203, 273] \n",
      "Minimum : 184  \n",
      "Mean : 215.50 \n",
      "Maximum : 273\n",
      "========================\n",
      "Final scores of loosing players : [152, 167, 133, 180, 140, 124, 164, 149, 168, 142, 135, 155, 161, 115, 170, 173, 161, 129, 161, 91] \n",
      "Minimum : 91  \n",
      "Mean : 148.50 \n",
      "Maximum : 180\n"
     ]
    }
   ],
   "source": [
    "print('Final scores of winning players :', winning_final, '\\nMinimum : %d  \\nMean : %.2f \\nMaximum : %d' % (min(winning_final), (sum(winning_final)/len(winning_final)), max(winning_final)))\n",
    "print('========================')\n",
    "print('Final scores of loosing players :', loosing_final, '\\nMinimum : %d  \\nMean : %.2f \\nMaximum : %d' % (min(loosing_final), (sum(loosing_final)/len(loosing_final)), max(loosing_final)))"
   ]
  },
  {
   "cell_type": "markdown",
   "metadata": {},
   "source": [
    "### The minimum score of the winning totals is greater than the maximum score of the loosing totals. Also the winning totals are all greater than 182 while the loosing totals are all less than 182."
   ]
  },
  {
   "cell_type": "markdown",
   "metadata": {},
   "source": [
    "#### #What proportion of games resulted in a winner that had a lower initial total than their opponent? What was the lowest initial total to win a game (or conversely, the highest initial total to lose a game)?"
   ]
  },
  {
   "cell_type": "code",
   "execution_count": 35,
   "metadata": {},
   "outputs": [
    {
     "name": "stdout",
     "output_type": "stream",
     "text": [
      "The proportion of games resulted in winner that had a lower initial total than their opponent is 0.00\n",
      "The lowest initial total to win a game is 168\n",
      "The highest initial total to loose a game is 196\n"
     ]
    }
   ],
   "source": [
    "print('The proportion of games resulted in winner that had a lower initial total than their opponent is %.2f' %(len(low_win)/20))\n",
    "print('The lowest initial total to win a game is %d' %min(winning_init))\n",
    "print('The highest initial total to loose a game is %d' %max(loosing_init))"
   ]
  },
  {
   "cell_type": "markdown",
   "metadata": {},
   "source": [
    "#### #Calculate the (linear) correlation between the initial and final totals for winners vs. losers? What do you observe about the respective correlations, and what do these correlations tell you about the relationship between the initial and final totals?"
   ]
  },
  {
   "cell_type": "code",
   "execution_count": 36,
   "metadata": {},
   "outputs": [
    {
     "name": "stdout",
     "output_type": "stream",
     "text": [
      "[186, 168, 192, 189, 189, 203, 187, 194, 181, 197, 199, 198, 193, 185, 184, 191, 193, 189, 190, 210]\n",
      "[178, 196, 172, 175, 175, 161, 177, 170, 183, 167, 165, 166, 171, 179, 180, 173, 171, 175, 174, 154]\n"
     ]
    }
   ],
   "source": [
    "print(winning_init)\n",
    "print(loosing_init)"
   ]
  },
  {
   "cell_type": "code",
   "execution_count": 37,
   "metadata": {},
   "outputs": [
    {
     "name": "stdout",
     "output_type": "stream",
     "text": [
      "The correlation between initial and final totals of winners is 0.57\n",
      "The correlation between initial and final totals of loosers is 0.57\n"
     ]
    }
   ],
   "source": [
    "arr_wi = np.array(winning_init)\n",
    "arr_wf = np.array(winning_final)\n",
    "arr_li = np.array(loosing_init)\n",
    "arr_lf = np.array(loosing_final)\n",
    "print('The correlation between initial and final totals of winners is %.2f' % np.corrcoef(arr_wi, arr_wf)[0,1])\n",
    "print('The correlation between initial and final totals of loosers is %.2f' %np.corrcoef(arr_li, arr_lf)[0,1])"
   ]
  },
  {
   "cell_type": "markdown",
   "metadata": {},
   "source": [
    "### The correlation coefficient between the intial and final totals of winners as well loosers has the same value.\n",
    "### Also since both the correlation coefficients are positve, it indicates that initial and final totals of winners move in the same direction. Similary, the initial and final totals of loosers tend to move in the same direction.\n"
   ]
  }
 ],
 "metadata": {
  "kernelspec": {
   "display_name": "Python 3",
   "language": "python",
   "name": "python3"
  },
  "language_info": {
   "codemirror_mode": {
    "name": "ipython",
    "version": 3
   },
   "file_extension": ".py",
   "mimetype": "text/x-python",
   "name": "python",
   "nbconvert_exporter": "python",
   "pygments_lexer": "ipython3",
   "version": "3.6.5"
  }
 },
 "nbformat": 4,
 "nbformat_minor": 2
}
