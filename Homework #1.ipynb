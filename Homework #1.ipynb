{
 "cells": [
  {
   "cell_type": "markdown",
   "metadata": {},
   "source": [
    "## Exercise #1 "
   ]
  },
  {
   "cell_type": "markdown",
   "metadata": {},
   "source": [
    "One of the earliest forms of cryptography was the Caesar cipher, a form of substitution cipher in which each letter in the alphabet is shifted by a fixed number of positions (with wrapping). Caesar himself used a left shift of three (-3), but any shift can be used. For example, a Caesar cipher with a right shift of two (+2) would replace the letter 'A' with the letter 'C', the letter 'B' with the letter 'D', and so on, with the letters 'Y' and 'Z' being replaced with the letters 'A' and 'B', respectively. In such a scheme, the word 'ANALYTICS' would be encrypted as 'CPCNAVKEU'. \n",
    "\n",
    "Define a function shift_alpha that takes in an alphabet string (A) and a shift constant (shift, default value of 0), prints the original and shifted alphabet (each as a single string), and returns a translation dictionary that contains each original letter as the key and the encrypted letter as the value. Demonstrate the performance of your function on the upper case alphabet with a shift of 0, +12, and -3."
   ]
  },
  {
   "cell_type": "code",
   "execution_count": 1,
   "metadata": {},
   "outputs": [],
   "source": [
    "import string\n",
    "lower = string.ascii_lowercase \n",
    "upper = string.ascii_uppercase"
   ]
  },
  {
   "cell_type": "code",
   "execution_count": 2,
   "metadata": {},
   "outputs": [],
   "source": [
    "def shift_alpha(A, shift=0) :\n",
    "    ''' a function that takes in an alphabet string (A) and a shift constant (integer), \n",
    "        prints the original and shifted alphabet, and returns a translation dictionary \n",
    "        that contains each original letter as the key and the encrypted letter as the value '''\n",
    "\n",
    "    print(A)\n",
    "    encrypted = ''\n",
    "    cipher = {}\n",
    "    total = 26\n",
    "    shift = shift % total      # to use the function for any big value of shift\n",
    "    for letter in A :           # iterate through each letter in the provided string\n",
    "        if letter in lower :        # To check if the letter is in lower case\n",
    "            pos = lower.find(letter)   # finding the index of the letter in ascii_lowercase \n",
    "            try :\n",
    "                cipher[letter] = lower[pos + shift]    # add the letter as key & its cipher as value in cipher dictionary\n",
    "                encrypted += lower[pos + shift]        # concatenate each cipher of a letter to the string encrypted\n",
    "            except :\n",
    "                cipher[letter] = lower[shift + pos - total]\n",
    "                encrypted += lower[shift + pos - total]\n",
    "                \n",
    "        elif letter in upper :      # if a letter is in upper case, repeat the same steps as done above in the lower case\n",
    "            pos = upper.find(letter)\n",
    "            try :\n",
    "                cipher[letter] = upper[pos + shift]\n",
    "                encrypted += upper[pos + shift]\n",
    "            except :\n",
    "                cipher[letter] = upper[shift + pos - total]\n",
    "                encrypted += upper[shift + pos - total]\n",
    "\n",
    "    print(encrypted)\n",
    "    return cipher"
   ]
  },
  {
   "cell_type": "markdown",
   "metadata": {},
   "source": [
    "### Performance"
   ]
  },
  {
   "cell_type": "code",
   "execution_count": 113,
   "metadata": {},
   "outputs": [
    {
     "name": "stdout",
     "output_type": "stream",
     "text": [
      "A\n",
      "A\n",
      "{'A': 'A'}\n"
     ]
    }
   ],
   "source": [
    "# Shift = 0\n",
    "print(shift_alpha('A', 0))"
   ]
  },
  {
   "cell_type": "code",
   "execution_count": 114,
   "metadata": {},
   "outputs": [
    {
     "name": "stdout",
     "output_type": "stream",
     "text": [
      "A\n",
      "M\n",
      "{'A': 'M'}\n"
     ]
    }
   ],
   "source": [
    "# Shift = 12\n",
    "print(shift_alpha('A', 12))"
   ]
  },
  {
   "cell_type": "code",
   "execution_count": 115,
   "metadata": {},
   "outputs": [
    {
     "name": "stdout",
     "output_type": "stream",
     "text": [
      "A\n",
      "X\n",
      "{'A': 'X'}\n"
     ]
    }
   ],
   "source": [
    "# Shift = -3\n",
    "print(shift_alpha('A', -3))"
   ]
  },
  {
   "cell_type": "markdown",
   "metadata": {},
   "source": [
    "## Exercise #2"
   ]
  },
  {
   "cell_type": "markdown",
   "metadata": {},
   "source": [
    "Define a function encrypt that takes in a word and a shift (default value = 0), and returns a string containing the encrypted version of the word using a Caesar shift. The function should work properly on upper and lower case letters, and return any non-alphabetic characters as is. \n",
    "\n",
    "Demonstrate that your function works properly on the following list of (case-sensitive) words/phrases with a Caesar shift of +5:\n",
    "\n",
    "apple, Maryland, Route 66, LaTeX, twenty-first century"
   ]
  },
  {
   "cell_type": "code",
   "execution_count": 116,
   "metadata": {},
   "outputs": [],
   "source": [
    "def encrypt(word, shift=0) :\n",
    "    ''' the function takes in a word (string) and a shift (integer), and returns a string containing \n",
    "        the encrypted version of the word using a Caesar shift. It works properly on upper and lower case letters, \n",
    "        and return any non-alphabetic characters as is. '''\n",
    "    \n",
    "    encrypted = ''\n",
    "    total = 26\n",
    "    shift = shift % total       # to use the function for any big value of shift\n",
    "    \n",
    "    for letter in word :           # iterate through each letter in the provided string\n",
    "        if letter in lower :        # To check if the letter is in lower case\n",
    "            pos = lower.find(letter)   # finding the index of the letter in ascii_lowercase \n",
    "            try :\n",
    "                encrypted += lower[pos + shift]        # concatenate each cipher of a letter to the string encrypted\n",
    "            except :\n",
    "                encrypted += lower[shift + pos - total]\n",
    "                \n",
    "        elif letter in upper :      # if a letter is in upper case, repeat the same steps as done above in the lower case\n",
    "            pos = upper.find(letter)\n",
    "            try :\n",
    "                encrypted += upper[pos + shift]\n",
    "            except :\n",
    "                encrypted += upper[shift + pos - total]\n",
    "        else :\n",
    "            encrypted += letter     # for non-alphabetic characters\n",
    "\n",
    "    return encrypted"
   ]
  },
  {
   "cell_type": "markdown",
   "metadata": {},
   "source": [
    "### Performance"
   ]
  },
  {
   "cell_type": "code",
   "execution_count": 117,
   "metadata": {},
   "outputs": [
    {
     "data": {
      "text/plain": [
       "'fuuqj'"
      ]
     },
     "execution_count": 117,
     "metadata": {},
     "output_type": "execute_result"
    }
   ],
   "source": [
    "encrypt('apple', 5)"
   ]
  },
  {
   "cell_type": "code",
   "execution_count": 118,
   "metadata": {},
   "outputs": [
    {
     "data": {
      "text/plain": [
       "'Rfwdqfsi'"
      ]
     },
     "execution_count": 118,
     "metadata": {},
     "output_type": "execute_result"
    }
   ],
   "source": [
    "encrypt('Maryland', 5)"
   ]
  },
  {
   "cell_type": "code",
   "execution_count": 119,
   "metadata": {},
   "outputs": [
    {
     "data": {
      "text/plain": [
       "'Wtzyj 66'"
      ]
     },
     "execution_count": 119,
     "metadata": {},
     "output_type": "execute_result"
    }
   ],
   "source": [
    "encrypt('Route 66', 5)"
   ]
  },
  {
   "cell_type": "code",
   "execution_count": 120,
   "metadata": {},
   "outputs": [
    {
     "data": {
      "text/plain": [
       "'QfYjC'"
      ]
     },
     "execution_count": 120,
     "metadata": {},
     "output_type": "execute_result"
    }
   ],
   "source": [
    "encrypt('LaTeX', 5)"
   ]
  },
  {
   "cell_type": "code",
   "execution_count": 121,
   "metadata": {},
   "outputs": [
    {
     "data": {
      "text/plain": [
       "'ybjsyd-knwxy hjsyzwd'"
      ]
     },
     "execution_count": 121,
     "metadata": {},
     "output_type": "execute_result"
    }
   ],
   "source": [
    "encrypt('twenty-first century', 5)"
   ]
  },
  {
   "cell_type": "markdown",
   "metadata": {},
   "source": [
    "## Exercise #3\n"
   ]
  },
  {
   "cell_type": "markdown",
   "metadata": {},
   "source": [
    "Now suppose you receive an encrypted message. Write a function decrypt that takes in a message, and produces all possible translations of the message using a Caesar cipher. Report the decrypted message and the shift (in the range of [-12, 13]) on the following encrypted quotes from Greek philosophers:\n",
    "\n",
    "1. Aristotle: Swcnkva ku pqv cp cev, kv ku c jcdkv.\n",
    "\n",
    "2. Demosthenes: Dxlww zaazcefytetpd lcp zqepy esp mprtyytyr zq rcple pyepcactdpd.\n",
    "\n",
    "3. Hypatia: Fczy cm uh ohzifxgyhn, uhx nby zolnbyl qy nlupyf nby gily nlonb qy wuh wigjlybyhx. Ni ohxylmnuhx nby nbcham nbun uly un iol xiil cm nby vymn jlyjuluncih zil ohxylmnuhxcha nbimy nbun fcy vysihx."
   ]
  },
  {
   "cell_type": "code",
   "execution_count": 3,
   "metadata": {},
   "outputs": [],
   "source": [
    "def decrypt(message) :\n",
    "    ''' the function takes in a message, and produces all possible translations of the message using a Caesar cipher '''\n",
    "    \n",
    "    total = 26\n",
    "    for shift in range(-12,14) : #iterate through each shift\n",
    "        encrypted = ''\n",
    "        for letter in message :     # iterate through each letter in the provided message\n",
    "            if letter in lower :        # To check if the letter is in lower case\n",
    "                pos = lower.find(letter)   # finding the index of the letter in ascii_lowercase \n",
    "                try :\n",
    "                    encrypted += lower[pos + shift]        # concatenate each cipher of a letter to the string encrypted\n",
    "                except :\n",
    "                    encrypted += lower[shift + pos - total]\n",
    "\n",
    "            elif letter in upper :      # if a letter is in upper case, repeat the same steps as done above in the lower case\n",
    "                pos = upper.find(letter)\n",
    "                try :\n",
    "                    encrypted += upper[pos + shift]\n",
    "                except :\n",
    "                    encrypted += upper[shift + pos - total]\n",
    "            else :\n",
    "                encrypted += letter     # for non-alphabetic characters\n",
    "\n",
    "        print(str(shift) + ': ' + encrypted)"
   ]
  },
  {
   "cell_type": "code",
   "execution_count": 6,
   "metadata": {},
   "outputs": [
    {
     "name": "stdout",
     "output_type": "stream",
     "text": [
      "-12: u tabq kag pupzf fdmzexmfq uf nk tmzp. ftmfe itmf oaybgfqde mdq rad. pauzs uf uz nk tmzp ue uzqrruouqzf mzp ftmf'e itk ftue fqjf ue ea xazs. geuzs efduzs.ymwqfdmze() ue dqoayyqzpqp. zai mbbxk az ftq gdx.\n",
      "-11: v ubcr lbh qvqag genafyngr vg ol unaq. gungf jung pbzchgref ner sbe. qbvat vg va ol unaq vf varssvpvrag naq gung'f jul guvf grkg vf fb ybat. hfvat fgevat.znxrgenaf() vf erpbzzraqrq. abj nccyl ba gur hey.\n",
      "-10: w vcds mci rwrbh hfobgzohs wh pm vobr. hvohg kvoh qcadihsfg ofs tcf. rcwbu wh wb pm vobr wg wbsttwqwsbh obr hvoh'g kvm hvwg hslh wg gc zcbu. igwbu ghfwbu.aoyshfobg() wg fsqcaasbrsr. bck oddzm cb hvs ifz.\n",
      "-9: x wdet ndj sxsci igpchapit xi qn wpcs. iwpih lwpi rdbejitgh pgt udg. sdxcv xi xc qn wpcs xh xctuuxrxtci pcs iwpi'h lwn iwxh itmi xh hd adcv. jhxcv higxcv.bpztigpch() xh gtrdbbtcsts. cdl peean dc iwt jga.\n",
      "-8: y xefu oek tytdj jhqdibqju yj ro xqdt. jxqji mxqj secfkjuhi qhu veh. teydw yj yd ro xqdt yi yduvvysyudj qdt jxqj'i mxo jxyi junj yi ie bedw. kiydw ijhydw.cqaujhqdi() yi huseccudtut. dem qffbo ed jxu khb.\n",
      "-7: z yfgv pfl uzuek kirejcrkv zk sp yreu. kyrkj nyrk tfdglkvij riv wfi. ufzex zk ze sp yreu zj zevwwztzvek reu kyrk'j nyp kyzj kvok zj jf cfex. ljzex jkizex.drbvkirej() zj ivtfddveuvu. efn rggcp fe kyv lic.\n",
      "-6: a zghw qgm vavfl ljsfkdslw al tq zsfv. lzslk ozsl ugehmlwjk sjw xgj. vgafy al af tq zsfv ak afwxxauawfl sfv lzsl'k ozq lzak lwpl ak kg dgfy. mkafy kljafy.escwljsfk() ak jwugeewfvwv. fgo shhdq gf lzw mjd.\n",
      "-5: b ahix rhn wbwgm mktgletmx bm ur atgw. matml patm vhfinmxkl tkx yhk. whbgz bm bg ur atgw bl bgxyybvbxgm tgw matm'l par mabl mxqm bl lh ehgz. nlbgz lmkbgz.ftdxmktgl() bl kxvhffxgwxw. ghp tiier hg max nke.\n",
      "-4: c bijy sio xcxhn nluhmfuny cn vs buhx. nbunm qbun wigjonylm uly zil. xicha cn ch vs buhx cm chyzzcwcyhn uhx nbun'm qbs nbcm nyrn cm mi fiha. omcha mnlcha.gueynluhm() cm lywiggyhxyx. hiq ujjfs ih nby olf.\n",
      "-3: d cjkz tjp ydyio omvingvoz do wt cviy. ocvon rcvo xjhkpozmn vmz ajm. yjdib do di wt cviy dn dizaadxdzio viy ocvo'n rct ocdn ozso dn nj gjib. pndib nomdib.hvfzomvin() dn mzxjhhziyzy. ijr vkkgt ji ocz pmg.\n",
      "-2: e dkla ukq zezjp pnwjohwpa ep xu dwjz. pdwpo sdwp ykilqpano wna bkn. zkejc ep ej xu dwjz eo ejabbeyeajp wjz pdwp'o sdu pdeo patp eo ok hkjc. qoejc opnejc.iwgapnwjo() eo naykiiajzaz. jks wllhu kj pda qnh.\n",
      "-1: f elmb vlr afakq qoxkpixqb fq yv exka. qexqp texq zljmrqbop xob clo. alfkd fq fk yv exka fp fkbccfzfbkq xka qexq'p tev qefp qbuq fp pl ilkd. rpfkd pqofkd.jxhbqoxkp() fp obzljjbkaba. klt xmmiv lk qeb roi.\n",
      "0: g fmnc wms bgblr rpylqjyrc gr zw fylb. rfyrq ufyr amknsrcpq ypc dmp. bmgle gr gl zw fylb gq glcddgagclr ylb rfyr'q ufw rfgq rcvr gq qm jmle. sqgle qrpgle.kyicrpylq() gq pcamkkclbcb. lmu ynnjw ml rfc spj.\n",
      "1: h gnod xnt chcms sqzmrkzsd hs ax gzmc. sgzsr vgzs bnlotsdqr zqd enq. cnhmf hs hm ax gzmc hr hmdeehbhdms zmc sgzs'r vgx sghr sdws hr rn knmf. trhmf rsqhmf.lzjdsqzmr() hr qdbnlldmcdc. mnv zookx nm sgd tqk.\n",
      "2: i hope you didnt translate it by hand. thats what computers are for. doing it in by hand is inefficient and that's why this text is so long. using string.maketrans() is recommended. now apply on the url.\n",
      "3: j ipqf zpv ejeou usbotmbuf ju cz iboe. uibut xibu dpnqvufst bsf gps. epjoh ju jo cz iboe jt jofggjdjfou boe uibu't xiz uijt ufyu jt tp mpoh. vtjoh tusjoh.nblfusbot() jt sfdpnnfoefe. opx bqqmz po uif vsm.\n",
      "4: k jqrg aqw fkfpv vtcpuncvg kv da jcpf. vjcvu yjcv eqorwvgtu ctg hqt. fqkpi kv kp da jcpf ku kpghhkekgpv cpf vjcv'u yja vjku vgzv ku uq nqpi. wukpi uvtkpi.ocmgvtcpu() ku tgeqoogpfgf. pqy crrna qp vjg wtn.\n",
      "5: l krsh brx glgqw wudqvodwh lw eb kdqg. wkdwv zkdw frpsxwhuv duh iru. grlqj lw lq eb kdqg lv lqhiilflhqw dqg wkdw'v zkb wklv whaw lv vr orqj. xvlqj vwulqj.pdnhwudqv() lv uhfrpphqghg. qrz dssob rq wkh xuo.\n",
      "6: m lsti csy hmhrx xverwpexi mx fc lerh. xlexw alex gsqtyxivw evi jsv. hsmrk mx mr fc lerh mw mrijjmgmirx erh xlex'w alc xlmw xibx mw ws psrk. ywmrk wxvmrk.qeoixverw() mw vigsqqirhih. rsa ettpc sr xli yvp.\n",
      "7: n mtuj dtz inisy ywfsxqfyj ny gd mfsi. ymfyx bmfy htruzyjwx fwj ktw. itnsl ny ns gd mfsi nx nsjkknhnjsy fsi ymfy'x bmd ymnx yjcy nx xt qtsl. zxnsl xywnsl.rfpjywfsx() nx wjhtrrjsiji. stb fuuqd ts ymj zwq.\n",
      "8: o nuvk eua jojtz zxgtyrgzk oz he ngtj. zngzy cngz iusvazkxy gxk lux. juotm oz ot he ngtj oy otklloioktz gtj zngz'y cne znoy zkdz oy yu rutm. ayotm yzxotm.sgqkzxgty() oy xkiussktjkj. tuc gvvre ut znk axr.\n",
      "9: p ovwl fvb kpkua ayhuzshal pa if ohuk. aohaz doha jvtwbalyz hyl mvy. kvpun pa pu if ohuk pz pulmmpjplua huk aoha'z dof aopz alea pz zv svun. bzpun zaypun.thrlayhuz() pz yljvttluklk. uvd hwwsf vu aol bys.\n",
      "10: q pwxm gwc lqlvb bzivatibm qb jg pivl. bpiba epib kwuxcbmza izm nwz. lwqvo qb qv jg pivl qa qvmnnqkqmvb ivl bpib'a epg bpqa bmfb qa aw twvo. caqvo abzqvo.uismbziva() qa zmkwuumvlml. vwe ixxtg wv bpm czt.\n",
      "11: r qxyn hxd mrmwc cajwbujcn rc kh qjwm. cqjcb fqjc lxvydcnab jan oxa. mxrwp rc rw kh qjwm rb rwnoorlrnwc jwm cqjc'b fqh cqrb cngc rb bx uxwp. dbrwp bcarwp.vjtncajwb() rb anlxvvnwmnm. wxf jyyuh xw cqn dau.\n",
      "12: s ryzo iye nsnxd dbkxcvkdo sd li rkxn. drkdc grkd mywzedobc kbo pyb. nysxq sd sx li rkxn sc sxoppsmsoxd kxn drkd'c gri drsc dohd sc cy vyxq. ecsxq cdbsxq.wkuodbkxc() sc bomywwoxnon. xyg kzzvi yx dro ebv.\n",
      "13: t szap jzf otoye eclydwlep te mj slyo. esled hsle nzxafepcd lcp qzc. oztyr te ty mj slyo td typqqtntpye lyo esle'd hsj estd epie td dz wzyr. fdtyr dectyr.xlvpeclyd() td cpnzxxpyopo. yzh laawj zy esp fcw.\n"
     ]
    }
   ],
   "source": [
    "decrypt(\"g fmnc wms bgblr rpylqjyrc gr zw fylb. rfyrq ufyr amknsrcpq ypc dmp. bmgle gr gl zw fylb gq glcddgagclr ylb rfyr'q ufw rfgq rcvr gq qm jmle. sqgle qrpgle.kyicrpylq() gq pcamkkclbcb. lmu ynnjw ml rfc spj.\")"
   ]
  },
  {
   "cell_type": "markdown",
   "metadata": {},
   "source": [
    "### Performance"
   ]
  },
  {
   "cell_type": "code",
   "execution_count": 123,
   "metadata": {},
   "outputs": [
    {
     "name": "stdout",
     "output_type": "stream",
     "text": [
      "-12: Gkqbyjo yi dej qd qsj, yj yi q xqryj.\n",
      "-11: Hlrczkp zj efk re rtk, zk zj r yrszk.\n",
      "-10: Imsdalq ak fgl sf sul, al ak s zstal.\n",
      "-9: Jntebmr bl ghm tg tvm, bm bl t atubm.\n",
      "-8: Koufcns cm hin uh uwn, cn cm u buvcn.\n",
      "-7: Lpvgdot dn ijo vi vxo, do dn v cvwdo.\n",
      "-6: Mqwhepu eo jkp wj wyp, ep eo w dwxep.\n",
      "-5: Nrxifqv fp klq xk xzq, fq fp x exyfq.\n",
      "-4: Osyjgrw gq lmr yl yar, gr gq y fyzgr.\n",
      "-3: Ptzkhsx hr mns zm zbs, hs hr z gzahs.\n",
      "-2: Quality is not an act, it is a habit.\n",
      "-1: Rvbmjuz jt opu bo bdu, ju jt b ibcju.\n",
      "0: Swcnkva ku pqv cp cev, kv ku c jcdkv.\n",
      "1: Txdolwb lv qrw dq dfw, lw lv d kdelw.\n",
      "2: Uyepmxc mw rsx er egx, mx mw e lefmx.\n",
      "3: Vzfqnyd nx sty fs fhy, ny nx f mfgny.\n",
      "4: Wagroze oy tuz gt giz, oz oy g nghoz.\n",
      "5: Xbhspaf pz uva hu hja, pa pz h ohipa.\n",
      "6: Ycitqbg qa vwb iv ikb, qb qa i pijqb.\n",
      "7: Zdjurch rb wxc jw jlc, rc rb j qjkrc.\n",
      "8: Aekvsdi sc xyd kx kmd, sd sc k rklsd.\n",
      "9: Bflwtej td yze ly lne, te td l slmte.\n",
      "10: Cgmxufk ue zaf mz mof, uf ue m tmnuf.\n",
      "11: Dhnyvgl vf abg na npg, vg vf n unovg.\n",
      "12: Eiozwhm wg bch ob oqh, wh wg o vopwh.\n",
      "13: Fjpaxin xh cdi pc pri, xi xh p wpqxi.\n"
     ]
    }
   ],
   "source": [
    "decrypt('Swcnkva ku pqv cp cev, kv ku c jcdkv.')"
   ]
  },
  {
   "cell_type": "code",
   "execution_count": 124,
   "metadata": {},
   "outputs": [
    {
     "name": "stdout",
     "output_type": "stream",
     "text": [
      "-12: Rlzkk noonqstmhshdr zqd nesdm sgd adfhmmhmf ne fqdzs dmsdqoqhrdr.\n",
      "-11: Small opportunities are often the beginning of great enterprises.\n",
      "-10: Tnbmm pqqpsuvojujft bsf pgufo uif cfhjoojoh pg hsfbu foufsqsjtft.\n",
      "-9: Uocnn qrrqtvwpkvkgu ctg qhvgp vjg dgikppkpi qh itgcv gpvgtrtkugu.\n",
      "-8: Vpdoo rssruwxqlwlhv duh riwhq wkh ehjlqqlqj ri juhdw hqwhusulvhv.\n",
      "-7: Wqepp sttsvxyrmxmiw evi sjxir xli fikmrrmrk sj kviex irxivtvmwiw.\n",
      "-6: Xrfqq tuutwyzsnynjx fwj tkyjs ymj gjlnssnsl tk lwjfy jsyjwuwnxjx.\n",
      "-5: Ysgrr uvvuxzatozoky gxk ulzkt znk hkmottotm ul mxkgz ktzkxvxoyky.\n",
      "-4: Zthss vwwvyabupaplz hyl vmalu aol ilnpuupun vm nylha lualywypzlz.\n",
      "-3: Auitt wxxwzbcvqbqma izm wnbmv bpm jmoqvvqvo wn ozmib mvbmzxzqama.\n",
      "-2: Bvjuu xyyxacdwrcrnb jan xocnw cqn knprwwrwp xo panjc nwcnayarbnb.\n",
      "-1: Cwkvv yzzybdexsdsoc kbo ypdox dro loqsxxsxq yp qbokd oxdobzbscoc.\n",
      "0: Dxlww zaazcefytetpd lcp zqepy esp mprtyytyr zq rcple pyepcactdpd.\n",
      "1: Eymxx abbadfgzufuqe mdq arfqz ftq nqsuzzuzs ar sdqmf qzfqdbdueqe.\n",
      "2: Fznyy bccbeghavgvrf ner bsgra gur ortvaavat bs terng ragrecevfrf.\n",
      "3: Gaozz cddcfhibwhwsg ofs cthsb hvs psuwbbwbu ct ufsoh sbhsfdfwgsg.\n",
      "4: Hbpaa deedgijcxixth pgt duitc iwt qtvxccxcv du vgtpi tcitgegxhth.\n",
      "5: Icqbb effehjkdyjyui qhu evjud jxu ruwyddydw ev whuqj udjuhfhyiui.\n",
      "6: Jdrcc fggfiklezkzvj riv fwkve kyv svxzeezex fw xivrk vekvigizjvj.\n",
      "7: Kesdd ghhgjlmfalawk sjw gxlwf lzw twyaffafy gx yjwsl wflwjhjakwk.\n",
      "8: Lftee hiihkmngbmbxl tkx hymxg max uxzbggbgz hy zkxtm xgmxkikblxl.\n",
      "9: Mguff ijjilnohcncym uly iznyh nby vyachhcha iz alyun yhnyljlcmym.\n",
      "10: Nhvgg jkkjmopidodzn vmz jaozi ocz wzbdiidib ja bmzvo ziozmkmdnzn.\n",
      "11: Oiwhh kllknpqjepeao wna kbpaj pda xacejjejc kb cnawp ajpanlneoao.\n",
      "12: Pjxii lmmloqrkfqfbp xob lcqbk qeb ybdfkkfkd lc dobxq bkqbomofpbp.\n",
      "13: Qkyjj mnnmprslgrgcq ypc mdrcl rfc zcegllgle md epcyr clrcpnpgqcq.\n"
     ]
    }
   ],
   "source": [
    "decrypt('Dxlww zaazcefytetpd lcp zqepy esp mprtyytyr zq rcple pyepcactdpd.')"
   ]
  },
  {
   "cell_type": "code",
   "execution_count": 125,
   "metadata": {},
   "outputs": [
    {
     "name": "stdout",
     "output_type": "stream",
     "text": [
      "-12: Tqnm qa iv cvnwtlumvb, ivl bpm nczbpmz em bzidmt bpm uwzm bzcbp em kiv kwuxzmpmvl. Bw cvlmzabivl bpm bpqvoa bpib izm ib wcz lwwz qa bpm jmab xzmxizibqwv nwz cvlmzabivlqvo bpwam bpib tqm jmgwvl.\n",
      "-11: Uron rb jw dwoxumvnwc, jwm cqn odacqna fn cajenu cqn vxan cadcq fn ljw lxvyanqnwm. Cx dwmnabcjwm cqn cqrwpb cqjc jan jc xda mxxa rb cqn knbc yanyjajcrxw oxa dwmnabcjwmrwp cqxbn cqjc urn knhxwm.\n",
      "-10: Vspo sc kx expyvnwoxd, kxn dro pebdrob go dbkfov dro wybo dbedr go mkx mywzboroxn. Dy exnobcdkxn dro drsxqc drkd kbo kd yeb nyyb sc dro locd zbozkbkdsyx pyb exnobcdkxnsxq dryco drkd vso loiyxn.\n",
      "-9: Wtqp td ly fyqzwoxpye, lyo esp qfcespc hp eclgpw esp xzcp ecfes hp nly nzxacpspyo. Ez fyopcdelyo esp estyrd esle lcp le zfc ozzc td esp mpde acpalcletzy qzc fyopcdelyotyr eszdp esle wtp mpjzyo.\n",
      "-8: Xurq ue mz gzraxpyqzf, mzp ftq rgdftqd iq fdmhqx ftq yadq fdgft iq omz oaybdqtqzp. Fa gzpqdefmzp ftq ftuzse ftmf mdq mf agd paad ue ftq nqef bdqbmdmfuaz rad gzpqdefmzpuzs ftaeq ftmf xuq nqkazp.\n",
      "-7: Yvsr vf na hasbyqzrag, naq gur shegure jr geniry gur zber gehgu jr pna pbzceruraq. Gb haqrefgnaq gur guvatf gung ner ng bhe qbbe vf gur orfg cercnengvba sbe haqrefgnaqvat gubfr gung yvr orlbaq.\n",
      "-6: Zwts wg ob ibtczrasbh, obr hvs tifhvsf ks hfojsz hvs acfs hfihv ks qob qcadfsvsbr. Hc ibrsfghobr hvs hvwbug hvoh ofs oh cif rccf wg hvs psgh dfsdofohwcb tcf ibrsfghobrwbu hvcgs hvoh zws psmcbr.\n",
      "-5: Axut xh pc jcudasbtci, pcs iwt ujgiwtg lt igpkta iwt bdgt igjiw lt rpc rdbegtwtcs. Id jcstghipcs iwt iwxcvh iwpi pgt pi djg sddg xh iwt qthi egtepgpixdc udg jcstghipcsxcv iwdht iwpi axt qtndcs.\n",
      "-4: Byvu yi qd kdvebtcudj, qdt jxu vkhjxuh mu jhqlub jxu cehu jhkjx mu sqd secfhuxudt. Je kdtuhijqdt jxu jxydwi jxqj qhu qj ekh teeh yi jxu ruij fhufqhqjyed veh kdtuhijqdtydw jxeiu jxqj byu ruoedt.\n",
      "-3: Czwv zj re lewfcudvek, reu kyv wlikyvi nv kirmvc kyv dfiv kilky nv tre tfdgivyveu. Kf leuvijkreu kyv kyzexj kyrk riv rk fli uffi zj kyv svjk givgrirkzfe wfi leuvijkreuzex kyfjv kyrk czv svpfeu.\n",
      "-2: Daxw ak sf mfxgdvewfl, sfv lzw xmjlzwj ow ljsnwd lzw egjw ljmlz ow usf ugehjwzwfv. Lg mfvwjklsfv lzw lzafyk lzsl sjw sl gmj vggj ak lzw twkl hjwhsjslagf xgj mfvwjklsfvafy lzgkw lzsl daw twqgfv.\n",
      "-1: Ebyx bl tg ngyhewfxgm, tgw max ynkmaxk px mktoxe max fhkx mknma px vtg vhfikxaxgw. Mh ngwxklmtgw max mabgzl matm tkx tm hnk whhk bl max uxlm ikxitktmbhg yhk ngwxklmtgwbgz mahlx matm ebx uxrhgw.\n",
      "0: Fczy cm uh ohzifxgyhn, uhx nby zolnbyl qy nlupyf nby gily nlonb qy wuh wigjlybyhx. Ni ohxylmnuhx nby nbcham nbun uly un iol xiil cm nby vymn jlyjuluncih zil ohxylmnuhxcha nbimy nbun fcy vysihx.\n",
      "1: Gdaz dn vi piajgyhzio, viy ocz apmoczm rz omvqzg ocz hjmz ompoc rz xvi xjhkmzcziy. Oj piyzmnoviy ocz ocdibn ocvo vmz vo jpm yjjm dn ocz wzno kmzkvmvodji ajm piyzmnoviydib ocjnz ocvo gdz wztjiy.\n",
      "2: Heba eo wj qjbkhziajp, wjz pda bqnpdan sa pnwrah pda ikna pnqpd sa ywj ykilnadajz. Pk qjzanopwjz pda pdejco pdwp wna wp kqn zkkn eo pda xaop lnalwnwpekj bkn qjzanopwjzejc pdkoa pdwp hea xaukjz.\n",
      "3: Ifcb fp xk rkcliajbkq, xka qeb croqebo tb qoxsbi qeb jlob qorqe tb zxk zljmobebka. Ql rkabopqxka qeb qefkdp qexq xob xq lro allo fp qeb ybpq mobmxoxqflk clo rkabopqxkafkd qelpb qexq ifb ybvlka.\n",
      "4: Jgdc gq yl sldmjbkclr, ylb rfc dsprfcp uc rpytcj rfc kmpc rpsrf uc ayl amknpcfclb. Rm slbcpqrylb rfc rfgleq rfyr ypc yr msp bmmp gq rfc zcqr npcnypyrgml dmp slbcpqrylbgle rfmqc rfyr jgc zcwmlb.\n",
      "5: Khed hr zm tmenkcldms, zmc sgd etqsgdq vd sqzudk sgd lnqd sqtsg vd bzm bnloqdgdmc. Sn tmcdqrszmc sgd sghmfr sgzs zqd zs ntq cnnq hr sgd adrs oqdozqzshnm enq tmcdqrszmchmf sgnrd sgzs khd adxnmc.\n",
      "6: Life is an unfoldment, and the further we travel the more truth we can comprehend. To understand the things that are at our door is the best preparation for understanding those that lie beyond.\n",
      "7: Mjgf jt bo vogpmenfou, boe uif gvsuifs xf usbwfm uif npsf usvui xf dbo dpnqsfifoe. Up voefstuboe uif uijoht uibu bsf bu pvs epps jt uif cftu qsfqbsbujpo gps voefstuboejoh uiptf uibu mjf cfzpoe.\n",
      "8: Nkhg ku cp wphqnfogpv, cpf vjg hwtvjgt yg vtcxgn vjg oqtg vtwvj yg ecp eqortgjgpf. Vq wpfgtuvcpf vjg vjkpiu vjcv ctg cv qwt fqqt ku vjg dguv rtgrctcvkqp hqt wpfgtuvcpfkpi vjqug vjcv nkg dgaqpf.\n",
      "9: Olih lv dq xqirogphqw, dqg wkh ixuwkhu zh wudyho wkh pruh wuxwk zh fdq frpsuhkhqg. Wr xqghuvwdqg wkh wklqjv wkdw duh dw rxu grru lv wkh ehvw suhsdudwlrq iru xqghuvwdqglqj wkrvh wkdw olh ehbrqg.\n",
      "10: Pmji mw er yrjsphqirx, erh xli jyvxliv ai xvezip xli qsvi xvyxl ai ger gsqtvilirh. Xs yrhivwxerh xli xlmrkw xlex evi ex syv hssv mw xli fiwx tvitevexmsr jsv yrhivwxerhmrk xlswi xlex pmi ficsrh.\n",
      "11: Qnkj nx fs zsktqirjsy, fsi ymj kzwymjw bj ywfajq ymj rtwj ywzym bj hfs htruwjmjsi. Yt zsijwxyfsi ymj ymnslx ymfy fwj fy tzw ittw nx ymj gjxy uwjufwfynts ktw zsijwxyfsinsl ymtxj ymfy qnj gjdtsi.\n",
      "12: Rolk oy gt atlurjsktz, gtj znk laxznkx ck zxgbkr znk suxk zxazn ck igt iusvxknktj. Zu atjkxyzgtj znk znotmy zngz gxk gz uax juux oy znk hkyz vxkvgxgzout lux atjkxyzgtjotm znuyk zngz rok hkeutj.\n",
      "13: Spml pz hu bumvsktlua, huk aol mbyaoly dl ayhcls aol tvyl aybao dl jhu jvtwyloluk. Av buklyzahuk aol aopunz aoha hyl ha vby kvvy pz aol ilza wylwhyhapvu mvy buklyzahukpun aovzl aoha spl ilfvuk.\n"
     ]
    }
   ],
   "source": [
    "decrypt('Fczy cm uh ohzifxgyhn, uhx nby zolnbyl qy nlupyf nby gily nlonb qy wuh wigjlybyhx. Ni ohxylmnuhx nby nbcham nbun uly un iol xiil cm nby vymn jlyjuluncih zil ohxylmnuhxcha nbimy nbun fcy vysihx.')"
   ]
  }
 ],
 "metadata": {
  "kernelspec": {
   "display_name": "Python 3",
   "language": "python",
   "name": "python3"
  },
  "language_info": {
   "codemirror_mode": {
    "name": "ipython",
    "version": 3
   },
   "file_extension": ".py",
   "mimetype": "text/x-python",
   "name": "python",
   "nbconvert_exporter": "python",
   "pygments_lexer": "ipython3",
   "version": "3.6.5"
  }
 },
 "nbformat": 4,
 "nbformat_minor": 2
}
