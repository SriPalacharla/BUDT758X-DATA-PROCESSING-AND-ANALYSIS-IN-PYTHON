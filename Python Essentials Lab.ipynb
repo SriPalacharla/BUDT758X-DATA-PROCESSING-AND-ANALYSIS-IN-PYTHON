{
 "cells": [
  {
   "cell_type": "markdown",
   "metadata": {},
   "source": [
    "### Exercise #1 "
   ]
  },
  {
   "cell_type": "markdown",
   "metadata": {},
   "source": [
    "You may recall the expression for computing confidence intervals for the (population) mean:\n",
    "\n",
    "LaTeX: \\bar{X} \\pm t_{n-1, 1-\\alpha/2} \\; \\frac{s}{\\sqrt{n}} X ¯ ± t n − 1 , 1 − α / 2 s n\n",
    "\n",
    "In order to calculate the confidence interval bounds, we need to determine the appropriate value for the t-multiple. In the SciPy (scipy) module, there is a function stats.t that contains various methods for working with the t-distribution. In particular, there is a .ppf method that is used to determine specific quantiles of the distribution for a given sample size (n, or degrees of freedom, n - 1). The function takes in a quantile (q) and a degrees of freedom (df), and (by default), returns the value for which F(x) = q, where F is the cumulative distribution function (cdf). What import statement do you have to execute in order to determine the t-multiple for a 95% confidence interval? Assume a sample size n = 20.\n",
    "\n",
    "a. scipy.stats.t.ppf\n",
    "\n",
    "b. stats.t.ppf\n",
    "\n",
    "c. t.ppf\n",
    "\n",
    "d. ss.t.ppf (where ss is a variable assigned to the scipy.stats submodule)\n",
    "\n",
    "Note that you must determine the appropriate arguments to generate the correct t-multiple."
   ]
  },
  {
   "cell_type": "markdown",
   "metadata": {},
   "source": [
    "#### Exercise#1a"
   ]
  },
  {
   "cell_type": "code",
   "execution_count": 6,
   "metadata": {},
   "outputs": [
    {
     "data": {
      "text/plain": [
       "2.093024054408263"
      ]
     },
     "execution_count": 6,
     "metadata": {},
     "output_type": "execute_result"
    }
   ],
   "source": [
    "import scipy.stats\n",
    "scipy.stats.t.ppf(0.975,19)"
   ]
  },
  {
   "cell_type": "markdown",
   "metadata": {},
   "source": [
    "#### Exercise#1b"
   ]
  },
  {
   "cell_type": "code",
   "execution_count": 7,
   "metadata": {},
   "outputs": [
    {
     "data": {
      "text/plain": [
       "2.093024054408263"
      ]
     },
     "execution_count": 7,
     "metadata": {},
     "output_type": "execute_result"
    }
   ],
   "source": [
    "from scipy import stats\n",
    "stats.t.ppf(0.975,19)"
   ]
  },
  {
   "cell_type": "markdown",
   "metadata": {},
   "source": [
    "#### Exercise #1c"
   ]
  },
  {
   "cell_type": "code",
   "execution_count": 8,
   "metadata": {},
   "outputs": [
    {
     "data": {
      "text/plain": [
       "2.093024054408263"
      ]
     },
     "execution_count": 8,
     "metadata": {},
     "output_type": "execute_result"
    }
   ],
   "source": [
    "from scipy.stats import t\n",
    "t.ppf(0.975,19)"
   ]
  },
  {
   "cell_type": "markdown",
   "metadata": {},
   "source": [
    "#### Exercise#1d"
   ]
  },
  {
   "cell_type": "code",
   "execution_count": 9,
   "metadata": {},
   "outputs": [
    {
     "data": {
      "text/plain": [
       "2.093024054408263"
      ]
     },
     "execution_count": 9,
     "metadata": {},
     "output_type": "execute_result"
    }
   ],
   "source": [
    "import scipy.stats as ss\n",
    "t_multiple = ss.t.ppf(0.975,19)\n",
    "t_multiple"
   ]
  },
  {
   "cell_type": "markdown",
   "metadata": {},
   "source": [
    "### Exercise #2"
   ]
  },
  {
   "cell_type": "markdown",
   "metadata": {},
   "source": [
    "Given your t-multiple from Exercise #1, calculate the 95% confidence interval for the (population) mean from the following sample:\n",
    "\n",
    "[81.62, 57.13, 56.65, 14.46, 73.09, 12.11, 92.51, 23.67, 14.39, 50.36, 88.62, 27.62, 27.74, 62.28, 73.00 , 84.46, 49.30, 54.99, 54.90 , 47.74]\n",
    "\n",
    "Note that you may only use concepts that we have covered within our Python Essentials unit. You may not make use of any functionality from NumPy, Scipy, or any other packages (e.g., math), other than determining the t-multiple. Display your final calculations (i.e., the 95% confidence interval limits) as a tuple."
   ]
  },
  {
   "cell_type": "code",
   "execution_count": 23,
   "metadata": {},
   "outputs": [
    {
     "data": {
      "text/plain": [
       "(40.37760262501881, 64.2863973749812)"
      ]
     },
     "execution_count": 23,
     "metadata": {},
     "output_type": "execute_result"
    }
   ],
   "source": [
    "data = [81.62, 57.13, 56.65, 14.46, 73.09, 12.11, 92.51, 23.67, 14.39, 50.36, 88.62, 27.62, 27.74, 62.28, 73.00 , 84.46, 49.30, 54.99, 54.90 , 47.74]\n",
    "mean = sum(data)/len(data)\n",
    "var = (sum((num-mean)**2 for num in data))/(len(data)-1)\n",
    "std = var ** 0.5\n",
    "confidence_interval = (mean - t_multiple*std/(len(data)**0.5), mean + t_multiple*std/(len(data)**0.5))\n",
    "confidence_interval"
   ]
  },
  {
   "cell_type": "markdown",
   "metadata": {},
   "source": [
    "### Exercise #3"
   ]
  },
  {
   "cell_type": "markdown",
   "metadata": {},
   "source": [
    "Using appropriate string operations and methods, correct the typological errors in the following sentences (1 error type per sentence):\n",
    "\n",
    "a. the game yesterday was awesome!\n",
    "\n",
    "b. Why- did- someone- type- a- dash- after- every- word-?\n",
    "\n",
    "c. I found the quality of this deliverable to be unacceptible.\n",
    "\n",
    "d. Here,are,the,words,in,this,sentence.\n",
    "\n",
    "You must use a different approach for each part in order to receive full credit."
   ]
  },
  {
   "cell_type": "markdown",
   "metadata": {},
   "source": [
    "#### Exercise #3a"
   ]
  },
  {
   "cell_type": "code",
   "execution_count": 24,
   "metadata": {},
   "outputs": [
    {
     "data": {
      "text/plain": [
       "'The game yesterday was awesome!'"
      ]
     },
     "execution_count": 24,
     "metadata": {},
     "output_type": "execute_result"
    }
   ],
   "source": [
    "str1 = 'the game yesterday was awesome!'\n",
    "str1.capitalize()"
   ]
  },
  {
   "cell_type": "markdown",
   "metadata": {},
   "source": [
    "#### Exercise #3b"
   ]
  },
  {
   "cell_type": "code",
   "execution_count": 25,
   "metadata": {},
   "outputs": [
    {
     "data": {
      "text/plain": [
       "'Why did someone type a dash after every word?'"
      ]
     },
     "execution_count": 25,
     "metadata": {},
     "output_type": "execute_result"
    }
   ],
   "source": [
    "str2 = 'Why- did- someone- type- a- dash- after- every- word-?'\n",
    "str2.replace('-','')"
   ]
  },
  {
   "cell_type": "markdown",
   "metadata": {},
   "source": [
    "#### Exercise #3c"
   ]
  },
  {
   "cell_type": "code",
   "execution_count": 26,
   "metadata": {},
   "outputs": [
    {
     "data": {
      "text/plain": [
       "'I found the quality of this deliverable to be unacceptable'"
      ]
     },
     "execution_count": 26,
     "metadata": {},
     "output_type": "execute_result"
    }
   ],
   "source": [
    "str3 = 'I found the quality of this deliverable to be unacceptible.'\n",
    "str3 = str3.rstrip('unacceptible.')\n",
    "str3 = str3 + 'unacceptable'\n",
    "str3"
   ]
  },
  {
   "cell_type": "markdown",
   "metadata": {},
   "source": [
    "#### Exercise #3d"
   ]
  },
  {
   "cell_type": "code",
   "execution_count": 27,
   "metadata": {},
   "outputs": [
    {
     "data": {
      "text/plain": [
       "'Here are the words in this sentence.'"
      ]
     },
     "execution_count": 27,
     "metadata": {},
     "output_type": "execute_result"
    }
   ],
   "source": [
    "str4 = 'Here,are,the,words,in,this,sentence.'\n",
    "str4 = str4.split(',')\n",
    "' '.join(str4)"
   ]
  }
 ],
 "metadata": {
  "kernelspec": {
   "display_name": "Python 3",
   "language": "python",
   "name": "python3"
  },
  "language_info": {
   "codemirror_mode": {
    "name": "ipython",
    "version": 3
   },
   "file_extension": ".py",
   "mimetype": "text/x-python",
   "name": "python",
   "nbconvert_exporter": "python",
   "pygments_lexer": "ipython3",
   "version": "3.6.5"
  }
 },
 "nbformat": 4,
 "nbformat_minor": 2
}
