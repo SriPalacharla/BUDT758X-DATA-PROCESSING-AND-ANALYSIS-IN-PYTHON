{
 "cells": [
  {
   "cell_type": "markdown",
   "metadata": {},
   "source": [
    "Kickstarter has established itself as the leading platform for funding creative ventures. Aspiring entrepreneurs in the arts can initiate fundraising campaigns on Kickstarter to support their projects. Some projects have been hugely successful, whereas many others have fallen well short of their fundraising objectives. The attached data file the document contains sample data on over 4000 Kickstarter fundraising campaigns. Each row contains a summary of each campaign, including the goal and amount pledged, the state of the project (e.g., successful, failed), the category of the project (i.e., type of art), and whether the project was featured via a staff pick or spotlight (i.e., on the Kickstarter home page). Complete the following exercises using the data."
   ]
  },
  {
   "cell_type": "code",
   "execution_count": 107,
   "metadata": {},
   "outputs": [],
   "source": [
    "import numpy as np"
   ]
  },
  {
   "cell_type": "markdown",
   "metadata": {},
   "source": [
    "## Exercise #1"
   ]
  },
  {
   "cell_type": "markdown",
   "metadata": {},
   "source": [
    "Load the amount pledged (in U.S. dollars) from the data file into an array of floating point values. Then, produce the following descriptive statistics:\n",
    "\n",
    "- Total number of projects\n",
    "- Minimum, mean, standard deviation, and maximum amount pledged\n",
    "- Proportion (or percentage) of projects that earned total pledges of at least $1,000"
   ]
  },
  {
   "cell_type": "code",
   "execution_count": 96,
   "metadata": {},
   "outputs": [],
   "source": [
    "usd_pledged = np.loadtxt('kickstarter.csv', delimiter=',', usecols=11, skiprows=1)"
   ]
  },
  {
   "cell_type": "code",
   "execution_count": 99,
   "metadata": {},
   "outputs": [
    {
     "name": "stdout",
     "output_type": "stream",
     "text": [
      "total_projects : 4184\n"
     ]
    }
   ],
   "source": [
    "print('total_projects :',usd_pledged.shape[0])"
   ]
  },
  {
   "cell_type": "code",
   "execution_count": 106,
   "metadata": {},
   "outputs": [
    {
     "name": "stdout",
     "output_type": "stream",
     "text": [
      "min : 0.0\n",
      "mean : 1242.1242686279124\n",
      "std : 5177.92798555567\n",
      "max : 111111.77\n"
     ]
    }
   ],
   "source": [
    "print('min :',usd_pledged.min())\n",
    "print('mean :',usd_pledged.mean())\n",
    "print('std :',usd_pledged.std())\n",
    "print('max :',usd_pledged.max())"
   ]
  },
  {
   "cell_type": "code",
   "execution_count": 105,
   "metadata": {},
   "outputs": [
    {
     "name": "stdout",
     "output_type": "stream",
     "text": [
      "Percentage of projects that earned total pledges of at least $1,000 is 19.622370936902485\n"
     ]
    }
   ],
   "source": [
    "projects_percent = ((pledged >= 1000).sum() / total_projects) * 100\n",
    "print('Percentage of projects that earned total pledges of at least $1,000 is',projects_percent)"
   ]
  },
  {
   "cell_type": "markdown",
   "metadata": {},
   "source": [
    "## Exercise #2 "
   ]
  },
  {
   "cell_type": "markdown",
   "metadata": {},
   "source": [
    "Load the project categories from the data file into an array of strings. Count the frequency of each category, and then calculate the proportion of observations that fall into each category. Return both results in the form of a dictionary. Which project category is the most popular (in terms of the number of projects)? Least popular?"
   ]
  },
  {
   "cell_type": "code",
   "execution_count": 54,
   "metadata": {},
   "outputs": [
    {
     "data": {
      "text/plain": [
       "array(['Conceptual Art', 'Conceptual Art', 'Conceptual Art', ...,\n",
       "       'Painting', 'Painting', 'Painting'], dtype='<U14')"
      ]
     },
     "execution_count": 54,
     "metadata": {},
     "output_type": "execute_result"
    }
   ],
   "source": [
    "categories = np.loadtxt('kickstarter.csv', delimiter=',', usecols=12, skiprows=1, dtype=str)\n",
    "categories"
   ]
  },
  {
   "cell_type": "code",
   "execution_count": 112,
   "metadata": {},
   "outputs": [
    {
     "data": {
      "text/plain": [
       "{'Conceptual Art': {'count': 879, 'proportion': 0.21008604206500955},\n",
       " 'Digital Art': {'count': 1054, 'proportion': 0.2519120458891013},\n",
       " 'Illustration': {'count': 461, 'proportion': 0.11018164435946463},\n",
       " 'Painting': {'count': 1586, 'proportion': 0.37906309751434036},\n",
       " 'Ceramics': {'count': 204, 'proportion': 0.04875717017208413}}"
      ]
     },
     "execution_count": 112,
     "metadata": {},
     "output_type": "execute_result"
    }
   ],
   "source": [
    "frequency = {}\n",
    "for category in categories :\n",
    "    frequency[category] = frequency.get(category,0) + 1\n",
    "    \n",
    "proportion = {}\n",
    "for k,v in frequency.items() :\n",
    "    proportion[k] = {'count' : v, 'proportion' : v/total_projects}\n",
    "proportion"
   ]
  },
  {
   "cell_type": "code",
   "execution_count": 110,
   "metadata": {},
   "outputs": [
    {
     "name": "stdout",
     "output_type": "stream",
     "text": [
      "Most Popular Category is 'Painting'\n",
      "Least Popular Category is 'Ceramics'\n"
     ]
    }
   ],
   "source": [
    "print(\"Most Popular Category is 'Painting'\")\n",
    "print(\"Least Popular Category is 'Ceramics'\")"
   ]
  },
  {
   "cell_type": "markdown",
   "metadata": {},
   "source": [
    "## Exercise #3"
   ]
  },
  {
   "cell_type": "markdown",
   "metadata": {},
   "source": [
    "Import the project states from the data file into an array of strings. For each project category, calculate the proportion (or percentage) of projects that were successful.  Which project category is the most successful (on average)? Least successful (on average)?"
   ]
  },
  {
   "cell_type": "code",
   "execution_count": 113,
   "metadata": {},
   "outputs": [
    {
     "name": "stdout",
     "output_type": "stream",
     "text": [
      "Ceramics : 41.17647058823529\n",
      "Conceptual Art : 36.6325369738339\n",
      "Digital Art : 27.13472485768501\n",
      "Illustration : 0.0\n",
      "Painting : 0.0\n"
     ]
    }
   ],
   "source": [
    "states = np.loadtxt('kickstarter.csv', delimiter=',', usecols=4, skiprows=1, dtype=str)\n",
    "\n",
    "for category in np.unique(categories) :\n",
    "    print(category,':',(np.logical_and(categories == category, states == 'successful').sum() / frequency[category]) * 100)"
   ]
  },
  {
   "cell_type": "code",
   "execution_count": 14,
   "metadata": {},
   "outputs": [
    {
     "name": "stdout",
     "output_type": "stream",
     "text": [
      "Most Successful Category is 'Ceramics'\n",
      "Least Successful Category are 'Illustration' & 'Painting'\n"
     ]
    }
   ],
   "source": [
    "print(\"Most Successful Category is 'Ceramics'\")\n",
    "print(\"Least Successful Category are 'Illustration' & 'Painting'\")"
   ]
  },
  {
   "cell_type": "markdown",
   "metadata": {},
   "source": [
    "## Exercise #4"
   ]
  },
  {
   "cell_type": "markdown",
   "metadata": {},
   "source": [
    "Load the staff pick and spotlight columns from the data file into (separate) arrays of strings. Calculate the total number of projects in each featured category, and then calculate the associated success rates in each category (proportion of successful projects). Which feature (staff pick or spotlight) is associated with a higher proportion of successful projects?"
   ]
  },
  {
   "cell_type": "code",
   "execution_count": 95,
   "metadata": {},
   "outputs": [],
   "source": [
    "staff_pick = np.loadtxt('kickstarter.csv', delimiter=',', usecols=8, skiprows=1, dtype=str)\n",
    "spotlight = np.loadtxt('kickstarter.csv', delimiter=',', usecols=13, skiprows=1, dtype=str)"
   ]
  },
  {
   "cell_type": "code",
   "execution_count": 114,
   "metadata": {},
   "outputs": [
    {
     "name": "stdout",
     "output_type": "stream",
     "text": [
      "staff_pick ----\tNumber of projects : 224 \tSuccess Rate : 72.76785714285714\n",
      "spotlight ----\tNumber of projects : 692 \tSuccess Rate : 100.0\n"
     ]
    }
   ],
   "source": [
    "total_staff_pick = (staff_pick == 'TRUE').sum()\n",
    "total_spotlight = (spotlight == 'TRUE').sum()\n",
    "success_staff_pick = (np.logical_and(staff_pick == 'TRUE', states == 'successful').sum() / total_staff_pick) * 100\n",
    "success_spotlight = (np.logical_and(spotlight == 'TRUE', states == 'successful').sum() / total_spotlight) * 100\n",
    "print('staff_pick ----\\tNumber of projects :',total_staff_pick, '\\tSuccess Rate :', success_staff_pick)\n",
    "print('spotlight ----\\tNumber of projects :',total_spotlight, '\\tSuccess Rate :', success_spotlight)"
   ]
  },
  {
   "cell_type": "code",
   "execution_count": 115,
   "metadata": {},
   "outputs": [
    {
     "name": "stdout",
     "output_type": "stream",
     "text": [
      "'spotlight' is associated with a higher proportion of successful projects\n"
     ]
    }
   ],
   "source": [
    "print(\"'spotlight' is associated with a higher proportion of successful projects\")"
   ]
  }
 ],
 "metadata": {
  "kernelspec": {
   "display_name": "Python 3",
   "language": "python",
   "name": "python3"
  },
  "language_info": {
   "codemirror_mode": {
    "name": "ipython",
    "version": 3
   },
   "file_extension": ".py",
   "mimetype": "text/x-python",
   "name": "python",
   "nbconvert_exporter": "python",
   "pygments_lexer": "ipython3",
   "version": "3.6.5"
  }
 },
 "nbformat": 4,
 "nbformat_minor": 2
}
